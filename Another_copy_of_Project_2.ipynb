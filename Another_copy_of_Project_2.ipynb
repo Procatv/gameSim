{
  "cells": [
    {
      "id": "4aig1x10fon53rjwow9m4x",
      "cell_type": "markdown",
      "source": [
        "# Project 2, Due: Mar.28, 2025\n",
        "**CSCI360 Introduction to Artificial Intelligence (2025 Spring)**\n",
        "\n",
        "## Instructions\n",
        "In the following Python code blocks, write your code in the section marked with\n",
        "```\n",
        "###\n",
        "### YOUR CODE HERE\n",
        "###\n",
        "```\n",
        "and\n",
        "```\n",
        "### BEGIN HELPER\n",
        "\n",
        "### END HELPER\n",
        "```\n",
        "Specifically, the `SOLUTION` sections will be graded with test cases; you can leave `HELPER` sections blank if no need.\n",
        "Do not modify other code block. If you have any question, please ask on Piazza or go to an office hour."
      ],
      "metadata": {
        "cellIdentifier": "4aig1x10fon53rjwow9m4x",
        "vocVersion": "1.1",
        "nbgrader": {
          "grade": false,
          "locked": true,
          "solution": false
        },
        "editable": false,
        "deletable": false,
        "id": "4aig1x10fon53rjwow9m4x"
      }
    },
    {
      "id": "4afyfqd1if4c7oe6xb9a0v",
      "cell_type": "markdown",
      "source": [
        "## Install external libraries\n",
        "Although it is unlikely to require an external Python library to finish the project other than preinstalled ones on Colab, you may install via the following block (provide bash syntax, see example line). Ask on Piazza before installation since it may violate a rule."
      ],
      "metadata": {
        "cellIdentifier": "4afyfqd1if4c7oe6xb9a0v",
        "vocVersion": "1.1",
        "nbgrader": {
          "grade": false,
          "locked": true,
          "solution": false
        },
        "editable": false,
        "deletable": false,
        "id": "4afyfqd1if4c7oe6xb9a0v"
      }
    },
    {
      "id": "cd3jqd3f7ke2wq6ij8h8pj",
      "cell_type": "code",
      "source": [
        "# example\n",
        "! pip install numpy\n",
        "\n",
        "### BEGIN HELPER\n",
        "\n",
        "### END HELPER"
      ],
      "metadata": {
        "cellIdentifier": "cd3jqd3f7ke2wq6ij8h8pj",
        "vocVersion": "1.1",
        "id": "cd3jqd3f7ke2wq6ij8h8pj"
      },
      "execution_count": null,
      "outputs": []
    },
    {
      "id": "09a222af",
      "cell_type": "markdown",
      "source": [
        "## Skeleton"
      ],
      "metadata": {
        "cellIdentifier": "09a222af",
        "nbgrader": {
          "grade": false,
          "locked": true,
          "solution": false
        },
        "editable": false,
        "deletable": false,
        "id": "09a222af"
      }
    },
    {
      "id": "9690c2b8",
      "cell_type": "code",
      "source": [
        "SYNERGY_BONUS = 120.\n",
        "NUM_HEROES_PER_TEAM = 5\n",
        "\n",
        "class State():\n",
        "    def __init__(\n",
        "        self, pool, num_heroes, roster_a=(), roster_b=(), diff=0,\n",
        "    ):\n",
        "        \"\"\"\n",
        "        State is represented as 3 lists:\n",
        "        Team A's roster, Team B's, and the pool.\n",
        "        The value of the state is the difference between Team A's Power\n",
        "        and Team B's.\n",
        "        \"\"\"\n",
        "        self.pool = pool\n",
        "        self.roster_a = roster_a\n",
        "        self.roster_b = roster_b\n",
        "        self.diff = diff\n",
        "\n",
        "        self.num_heroes = num_heroes\n",
        "\n",
        "    def update(self, player, hero, game):\n",
        "        \"\"\" Adds hero to player's roster and updates the state and its value.\n",
        "\n",
        "        Args:\n",
        "            player (str): player id (a or b)\n",
        "            hero (int): hero id\n",
        "            game (Game): game object\n",
        "\n",
        "        Raises:\n",
        "            ValueError: If invalid player_id passed.\n",
        "\n",
        "        Returns:\n",
        "            state: updated state after adding hero to player's roster\n",
        "        \"\"\"\n",
        "\n",
        "        assert hero in self.pool, \"Hero not in pool.\"\n",
        "        pool = tuple(h for h in self.pool if h != hero)\n",
        "        roster_a = self.roster_a\n",
        "        roster_b = self.roster_b\n",
        "\n",
        "\n",
        "        ###\n",
        "        ### YOUR CODE HERE\n",
        "        ###\n",
        "\n",
        "\n",
        "    def get_roster(self, player_id):\n",
        "        \"\"\"get roster of a master player\n",
        "\n",
        "        Args:\n",
        "            player_id (str): player id (a or b)\n",
        "\n",
        "        Raises:\n",
        "            ValueError: player id must be a or b\n",
        "\n",
        "        Returns:\n",
        "            tuple: corresponding roster of the player\n",
        "        \"\"\"\n",
        "        if player_id == \"a\":\n",
        "            return self.roster_a\n",
        "        elif player_id == \"b\":\n",
        "            return self.roster_b\n",
        "        else:\n",
        "            raise ValueError(\"Player ID must be a or b\")\n",
        "\n",
        "    def get_pool(self):\n",
        "        \"\"\" Get the list of (unpicked) available heroes. \"\"\"\n",
        "        return self.pool\n",
        "\n",
        "    def eval(self):\n",
        "        \"\"\"Evaluate the value of current state\n",
        "\n",
        "        Returns:\n",
        "            (float): value of current state\n",
        "        \"\"\"\n",
        "\n",
        "        ###\n",
        "        ### YOUR CODE HERE\n",
        "        ###\n",
        "\n",
        "    def _synergy_bonus(self, player_id):\n",
        "        \"\"\"get synergy bonus for a player if possible\n",
        "\n",
        "        Args:\n",
        "            player_id (int): player id\n",
        "        Return (float): synergy bonus for the player if possible, if not, return 0\n",
        "        \"\"\"\n",
        "        heroes = self.get_roster(player_id)\n",
        "        ###\n",
        "        ### YOUR CODE HERE\n",
        "        ###\n",
        "\n",
        "\n",
        "    def isEndState(self):\n",
        "        \"\"\"Checks if the game has ended.\n",
        "\n",
        "        Raises:\n",
        "            ValueError:\n",
        "\n",
        "        Returns:\n",
        "            (bool): If the game has ended (True) or not (False).\n",
        "        \"\"\"\n",
        "        if len(self.roster_a) > self.num_heroes or len(self.roster_b) > self.num_heroes:\n",
        "            raise ValueError(\n",
        "                \"Something went wrong (either the algorithm or the input\"\n",
        "            )\n",
        "        ###\n",
        "        ### YOUR CODE HERE\n",
        "        ###\n"
      ],
      "metadata": {
        "cellIdentifier": "9690c2b8",
        "nbgrader": {
          "grade": false,
          "locked": false,
          "solution": true
        },
        "id": "9690c2b8"
      },
      "execution_count": null,
      "outputs": []
    },
    {
      "id": "2a28b683",
      "cell_type": "code",
      "source": [
        "class Game():\n",
        "    def __init__(self, heroes, algorithm, num_heroes):\n",
        "        self.heroes, self.pool, self.roster_a, self.roster_b = self._process(heroes)\n",
        "        self.num_heroes = num_heroes\n",
        "        self.algorithm = algorithm\n",
        "\n",
        "    def solve_game(self):\n",
        "        \"\"\"solve the game with the given algorithm. You need to construct a CORRECT initial_state, finish implementing minimax or alphaBetaPruning functions. Then, from end_state, find the hero_id of the next hero to pick.\n",
        "        Raises:\n",
        "            NotImplementedError: If the algorithm is not in [\"minimax\", \"ab\"]\n",
        "        Returns:\n",
        "            hero_id (int): hero_id of the next hero to pick\n",
        "        \"\"\"\n",
        "\n",
        "        ###\n",
        "        ### YOUR CODE HERE\n",
        "        ###\n",
        "\n",
        "        if self.algorithm == \"minimax\":\n",
        "            v, end_state = self.minimax(player_id=\"a\", state=initial_state)\n",
        "        elif self.algorithm == \"ab\":\n",
        "            end_state = self.alphaBetaPruning(initial_state)\n",
        "        else:\n",
        "            raise NotImplementedError(\n",
        "                \"Algorithm not implemented: {}\".format(self.algorithm)\n",
        "            )\n",
        "        ###\n",
        "        ### YOUR CODE HERE\n",
        "        ###\n",
        "\n",
        "    def _process(self, heroes):\n",
        "        \"\"\"Processes heroes information.\n",
        "\n",
        "        Args:\n",
        "            heroes (list): list of hero information according to input format. Each list item is a tuple of (hero_id, power, happy_a, happy_b, team)\n",
        "\n",
        "        Raises:\n",
        "            ValueError: If team not in [0, 1, 2]\n",
        "\n",
        "        Returns:\n",
        "            heroes (dict): Dictionary of hero_id to hero information. each hero is a dictionary of {\"a\": power * happy_a, \"b: power * happy_b}\n",
        "            pool (list): list of hero_ids not picked yet\n",
        "            roster_a (tuple): tuple of hero_ids already assigned to team A\n",
        "            roster_b (tuple): tuple of hero_ids already assigned to team B\n",
        "        \"\"\"\n",
        "        pool = tuple()\n",
        "        roster_a = tuple()\n",
        "        roster_b = tuple()\n",
        "        heroes_dict = dict()\n",
        "        ###\n",
        "        ### YOUR CODE HERE\n",
        "        ###\n",
        "\n",
        "        pool = sorted(pool)\n",
        "        return heroes_dict, pool, roster_a, roster_b\n",
        "\n",
        "    def get_power(self, hero_name, player):\n",
        "        return self.heroes[hero_name][player]\n",
        "\n",
        "    def get_heroes(self):\n",
        "        return self.heroes.keys()\n",
        "\n",
        "    def minimax(self, player_id, state):\n",
        "        \"\"\"Two-player Minimax algorithm (merged into one using player_id). You need to implement the minimax algorithm iteratively.\n",
        "\n",
        "        Args:\n",
        "            player_id (str): the player starting the game (either \"a\" or \"b\")\n",
        "            state (State): current state of the game\n",
        "\n",
        "        Returns:\n",
        "            value (float): How much we gain (positive) or lose (negative).\n",
        "            state (State): end state of the game.\n",
        "        \"\"\"\n",
        "        if state.isEndState():\n",
        "            return (\n",
        "                state.eval(),\n",
        "                state,\n",
        "            )\n",
        "        else:\n",
        "            v = - float(\"inf\")\n",
        "            s = None # some state\n",
        "            ###\n",
        "            ### YOUR CODE HERE\n",
        "            ###\n",
        "\n",
        "    def alphaBetaPruning(self, state):\n",
        "        return self.maxvalue(state, -float(\"inf\"), float(\"inf\"))\n",
        "\n",
        "    def maxvalue(self, state, alpha, beta):\n",
        "        \"\"\"Two-player Minimax algorithm (merged into one using player_id)\n",
        "\n",
        "        Args:\n",
        "            state (State): state of the game\n",
        "            alpha (float): alpha value\n",
        "            beta (float): beta value\n",
        "\n",
        "        Returns:\n",
        "            status (State) : next state of the game.\n",
        "        \"\"\"\n",
        "        if state.isEndState():\n",
        "            return state\n",
        "        else:\n",
        "            value = - float(\"inf\")\n",
        "            status = None\n",
        "            ###\n",
        "            ### YOUR CODE HERE\n",
        "            ###\n",
        "\n",
        "\n",
        "    def minvalue(self, state, alpha, beta):\n",
        "        \"\"\" Two-player Minimax algorithm (merged into one using player_id)\n",
        "        Args:\n",
        "            state (State): state of the game\n",
        "            alpha (float):\n",
        "            beta (float):\n",
        "\n",
        "        Returns:\n",
        "            status (State) : state of the game in the end.\n",
        "        \"\"\"\n",
        "        if state.isEndState():\n",
        "            return state\n",
        "        else:\n",
        "            value = float(\"inf\")\n",
        "            status = None\n",
        "            ###\n",
        "            ### YOUR CODE HERE\n",
        "            ###\n"
      ],
      "metadata": {
        "cellIdentifier": "2a28b683",
        "nbgrader": {
          "grade": false,
          "locked": false,
          "solution": true
        },
        "id": "2a28b683"
      },
      "execution_count": null,
      "outputs": []
    },
    {
      "id": "cce4fbf7",
      "cell_type": "markdown",
      "source": [
        "## Sample test Cases"
      ],
      "metadata": {
        "cellIdentifier": "cce4fbf7",
        "id": "cce4fbf7"
      }
    },
    {
      "id": "e4223a83",
      "cell_type": "code",
      "source": [
        "sample_tests = {\n",
        "    'test_0':[\n",
        "        10,\n",
        "        'ab',\n",
        "        [\n",
        "            (67503, 186.841326, 1.000000, 0.625746, 2),\n",
        "            (17303, 123.604750, 0.945880, 1.000000, 0),\n",
        "            (62702, 186.841326, 0.382792, 1.000000, 1),\n",
        "            (25304, 64.579709, 0.897282, 1.000000, 2),\n",
        "            (46304, 135.598465, 1.000000, 1.000000, 1),\n",
        "            (95501, 71.521439, 0.902942, 1.000000, 2),\n",
        "            (22705, 96.101961, 1.000000, 0.955306, 2),\n",
        "            (63203, 57.946192, 0.441307, 1.000000, 1),\n",
        "            (84302, 91.806793, 1.000000, 0.278542, 0),\n",
        "            (61905, 123.604750, 1.000000, 0.777494, 1)\n",
        "        ],\n",
        "        17303\n",
        "    ],\n",
        "\n",
        "    'test_1': [\n",
        "        10,\n",
        "        'minimax',\n",
        "        [\n",
        "            (88703, 94.096762, 1.0, 0.589972, 0),\n",
        "            (86002, 94.409059, 0.569037, 1.0, 0),\n",
        "            (45302, 120.307764, 1.0, 0.44654, 0),\n",
        "            (16203, 104.402585, 0.976748, 1.0, 0),\n",
        "            (46803, 94.409059, 1.0, 0.996692, 0),\n",
        "            (58502, 147.666518, 1.0, 0.439176, 0),\n",
        "            (13202, 120.307764, 0.600135, 1.0, 2),\n",
        "            (95603, 147.666518, 0.375945, 1.0, 0),\n",
        "            (76105, 104.402585, 1.0, 0.691562, 1),\n",
        "            (93005, 101.974982, 0.635956, 1.0, 0)\n",
        "        ],\n",
        "        58502\n",
        "    ],\n",
        "    'test_2': [\n",
        "        10,\n",
        "        'ab',\n",
        "        [\n",
        "            (88703, 94.096762, 1.0, 0.589972, 0),\n",
        "            (86002, 94.409059, 0.569037, 1.0, 0),\n",
        "            (45302, 120.307764, 1.0, 0.44654, 0),\n",
        "            (16203, 104.402585, 0.976748, 1.0, 0),\n",
        "            (46803, 94.409059, 1.0, 0.996692, 0),\n",
        "            (58502, 147.666518, 1.0, 0.439176, 0),\n",
        "            (13202, 120.307764, 0.600135, 1.0, 0),\n",
        "            (95603, 147.666518, 0.375945, 1.0, 0),\n",
        "            (76105, 104.402585, 1.0, 0.691562, 0),\n",
        "            (93005, 101.974982, 0.635956, 1.0, 0)\n",
        "        ],\n",
        "        58502\n",
        "    ],\n",
        "}\n",
        "\n",
        "for k, v in sample_tests.items():\n",
        "    num_contestants, alg, heroes, output = v\n",
        "    game = Game(heroes, alg, num_heroes=NUM_HEROES_PER_TEAM)\n",
        "    next_hero = game.solve_game()\n",
        "    assert next_hero == output, f\"test name {k}, expected {output} but got {next_hero}\""
      ],
      "metadata": {
        "cellIdentifier": "e4223a83",
        "nbgrader": {
          "grade": false,
          "locked": true,
          "solution": false
        },
        "editable": false,
        "deletable": false,
        "id": "e4223a83"
      },
      "execution_count": null,
      "outputs": []
    },
    {
      "id": "29a0904a",
      "cell_type": "markdown",
      "source": [
        "## Hidden Tests"
      ],
      "metadata": {
        "cellIdentifier": "29a0904a",
        "nbgrader": {
          "grade": false,
          "locked": true,
          "solution": false
        },
        "editable": false,
        "deletable": false,
        "id": "29a0904a"
      }
    },
    {
      "id": "f68637a9",
      "cell_type": "code",
      "source": [
        "###\n",
        "### AUTOGRADER TEST - DO NOT REMOVE\n",
        "###\n"
      ],
      "metadata": {
        "cellIdentifier": "f68637a9",
        "nbgrader": {
          "grade": true,
          "locked": true,
          "solution": false,
          "grade_id": "test_0",
          "points": "2"
        },
        "editable": false,
        "deletable": false,
        "id": "f68637a9"
      },
      "execution_count": null,
      "outputs": []
    },
    {
      "id": "878eecb9",
      "cell_type": "code",
      "source": [
        "###\n",
        "### AUTOGRADER TEST - DO NOT REMOVE\n",
        "###\n"
      ],
      "metadata": {
        "cellIdentifier": "878eecb9",
        "nbgrader": {
          "grade": true,
          "locked": true,
          "solution": false,
          "grade_id": "test_1",
          "points": "2"
        },
        "editable": false,
        "deletable": false,
        "id": "878eecb9"
      },
      "execution_count": null,
      "outputs": []
    },
    {
      "id": "4aeeb6a8",
      "cell_type": "code",
      "source": [
        "###\n",
        "### AUTOGRADER TEST - DO NOT REMOVE\n",
        "###\n"
      ],
      "metadata": {
        "cellIdentifier": "4aeeb6a8",
        "nbgrader": {
          "grade": true,
          "locked": true,
          "solution": false,
          "grade_id": "test_2",
          "points": "2"
        },
        "editable": false,
        "deletable": false,
        "id": "4aeeb6a8"
      },
      "execution_count": null,
      "outputs": []
    },
    {
      "id": "35d9d444",
      "cell_type": "code",
      "source": [
        "###\n",
        "### AUTOGRADER TEST - DO NOT REMOVE\n",
        "###\n"
      ],
      "metadata": {
        "cellIdentifier": "35d9d444",
        "nbgrader": {
          "grade": true,
          "locked": true,
          "solution": false,
          "grade_id": "test_3",
          "points": "2"
        },
        "editable": false,
        "deletable": false,
        "id": "35d9d444"
      },
      "execution_count": null,
      "outputs": []
    },
    {
      "id": "549a99fa",
      "cell_type": "code",
      "source": [
        "###\n",
        "### AUTOGRADER TEST - DO NOT REMOVE\n",
        "###\n"
      ],
      "metadata": {
        "cellIdentifier": "549a99fa",
        "nbgrader": {
          "grade": true,
          "locked": true,
          "solution": false,
          "grade_id": "test_4",
          "points": "2"
        },
        "editable": false,
        "deletable": false,
        "id": "549a99fa"
      },
      "execution_count": null,
      "outputs": []
    },
    {
      "id": "36eced61",
      "cell_type": "code",
      "source": [
        "###\n",
        "### AUTOGRADER TEST - DO NOT REMOVE\n",
        "###\n"
      ],
      "metadata": {
        "cellIdentifier": "36eced61",
        "nbgrader": {
          "grade": true,
          "locked": true,
          "solution": false,
          "grade_id": "test_5",
          "points": "2"
        },
        "editable": false,
        "deletable": false,
        "id": "36eced61"
      },
      "execution_count": null,
      "outputs": []
    },
    {
      "id": "f0dcb1a3",
      "cell_type": "code",
      "source": [
        "###\n",
        "### AUTOGRADER TEST - DO NOT REMOVE\n",
        "###\n"
      ],
      "metadata": {
        "cellIdentifier": "f0dcb1a3",
        "nbgrader": {
          "grade": true,
          "locked": true,
          "solution": false,
          "grade_id": "test_6",
          "points": "2"
        },
        "editable": false,
        "deletable": false,
        "id": "f0dcb1a3"
      },
      "execution_count": null,
      "outputs": []
    },
    {
      "id": "e9a8de5f",
      "cell_type": "code",
      "source": [
        "###\n",
        "### AUTOGRADER TEST - DO NOT REMOVE\n",
        "###\n"
      ],
      "metadata": {
        "cellIdentifier": "e9a8de5f",
        "nbgrader": {
          "grade": true,
          "locked": true,
          "solution": false,
          "grade_id": "test_7",
          "points": "2"
        },
        "editable": false,
        "deletable": false,
        "id": "e9a8de5f"
      },
      "execution_count": null,
      "outputs": []
    },
    {
      "id": "a954e8e3",
      "cell_type": "code",
      "source": [
        "###\n",
        "### AUTOGRADER TEST - DO NOT REMOVE\n",
        "###\n"
      ],
      "metadata": {
        "cellIdentifier": "a954e8e3",
        "nbgrader": {
          "grade": true,
          "locked": true,
          "solution": false,
          "grade_id": "test_8",
          "points": "2"
        },
        "editable": false,
        "deletable": false,
        "id": "a954e8e3"
      },
      "execution_count": null,
      "outputs": []
    },
    {
      "id": "cfc25c97",
      "cell_type": "code",
      "source": [
        "###\n",
        "### AUTOGRADER TEST - DO NOT REMOVE\n",
        "###\n"
      ],
      "metadata": {
        "cellIdentifier": "cfc25c97",
        "nbgrader": {
          "grade": true,
          "locked": true,
          "solution": false,
          "grade_id": "test_9",
          "points": "2"
        },
        "editable": false,
        "deletable": false,
        "id": "cfc25c97"
      },
      "execution_count": null,
      "outputs": []
    },
    {
      "id": "282e091e",
      "cell_type": "code",
      "source": [
        "###\n",
        "### AUTOGRADER TEST - DO NOT REMOVE\n",
        "###\n"
      ],
      "metadata": {
        "cellIdentifier": "282e091e",
        "nbgrader": {
          "grade": true,
          "locked": true,
          "solution": false,
          "grade_id": "test_10",
          "points": "2"
        },
        "editable": false,
        "deletable": false,
        "id": "282e091e"
      },
      "execution_count": null,
      "outputs": []
    },
    {
      "id": "9167132f",
      "cell_type": "code",
      "source": [
        "###\n",
        "### AUTOGRADER TEST - DO NOT REMOVE\n",
        "###\n"
      ],
      "metadata": {
        "cellIdentifier": "9167132f",
        "nbgrader": {
          "grade": true,
          "locked": true,
          "solution": false,
          "grade_id": "test_11",
          "points": "2"
        },
        "editable": false,
        "deletable": false,
        "id": "9167132f"
      },
      "execution_count": null,
      "outputs": []
    },
    {
      "id": "2723fd19",
      "cell_type": "code",
      "source": [
        "###\n",
        "### AUTOGRADER TEST - DO NOT REMOVE\n",
        "###\n"
      ],
      "metadata": {
        "cellIdentifier": "2723fd19",
        "nbgrader": {
          "grade": true,
          "locked": true,
          "solution": false,
          "grade_id": "test_12",
          "points": "2"
        },
        "editable": false,
        "deletable": false,
        "id": "2723fd19"
      },
      "execution_count": null,
      "outputs": []
    },
    {
      "id": "4e1a84f4",
      "cell_type": "code",
      "source": [
        "###\n",
        "### AUTOGRADER TEST - DO NOT REMOVE\n",
        "###\n"
      ],
      "metadata": {
        "cellIdentifier": "4e1a84f4",
        "nbgrader": {
          "grade": true,
          "locked": true,
          "solution": false,
          "grade_id": "test_13",
          "points": "2"
        },
        "editable": false,
        "deletable": false,
        "id": "4e1a84f4"
      },
      "execution_count": null,
      "outputs": []
    },
    {
      "id": "c375066d",
      "cell_type": "code",
      "source": [
        "###\n",
        "### AUTOGRADER TEST - DO NOT REMOVE\n",
        "###\n"
      ],
      "metadata": {
        "cellIdentifier": "c375066d",
        "nbgrader": {
          "grade": true,
          "locked": true,
          "solution": false,
          "grade_id": "test_14",
          "points": "2"
        },
        "editable": false,
        "deletable": false,
        "id": "c375066d"
      },
      "execution_count": null,
      "outputs": []
    },
    {
      "id": "e9e42353",
      "cell_type": "code",
      "source": [
        "###\n",
        "### AUTOGRADER TEST - DO NOT REMOVE\n",
        "###\n"
      ],
      "metadata": {
        "cellIdentifier": "e9e42353",
        "nbgrader": {
          "grade": true,
          "locked": true,
          "solution": false,
          "grade_id": "test_15",
          "points": "2"
        },
        "editable": false,
        "deletable": false,
        "id": "e9e42353"
      },
      "execution_count": null,
      "outputs": []
    },
    {
      "id": "6ec1da70",
      "cell_type": "code",
      "source": [
        "###\n",
        "### AUTOGRADER TEST - DO NOT REMOVE\n",
        "###\n"
      ],
      "metadata": {
        "cellIdentifier": "6ec1da70",
        "nbgrader": {
          "grade": true,
          "locked": true,
          "solution": false,
          "grade_id": "test_16",
          "points": "2"
        },
        "editable": false,
        "deletable": false,
        "id": "6ec1da70"
      },
      "execution_count": null,
      "outputs": []
    },
    {
      "id": "46aa49ce",
      "cell_type": "code",
      "source": [
        "###\n",
        "### AUTOGRADER TEST - DO NOT REMOVE\n",
        "###\n"
      ],
      "metadata": {
        "cellIdentifier": "46aa49ce",
        "nbgrader": {
          "grade": true,
          "locked": true,
          "solution": false,
          "grade_id": "test_17",
          "points": "2"
        },
        "editable": false,
        "deletable": false,
        "id": "46aa49ce"
      },
      "execution_count": null,
      "outputs": []
    },
    {
      "id": "817ddb60",
      "cell_type": "code",
      "source": [
        "###\n",
        "### AUTOGRADER TEST - DO NOT REMOVE\n",
        "###\n"
      ],
      "metadata": {
        "cellIdentifier": "817ddb60",
        "nbgrader": {
          "grade": true,
          "locked": true,
          "solution": false,
          "grade_id": "test_18",
          "points": "2"
        },
        "editable": false,
        "deletable": false,
        "id": "817ddb60"
      },
      "execution_count": null,
      "outputs": []
    },
    {
      "id": "8a183217",
      "cell_type": "code",
      "source": [
        "###\n",
        "### AUTOGRADER TEST - DO NOT REMOVE\n",
        "###\n"
      ],
      "metadata": {
        "cellIdentifier": "8a183217",
        "nbgrader": {
          "grade": true,
          "locked": true,
          "solution": false,
          "grade_id": "test_19",
          "points": "2"
        },
        "editable": false,
        "deletable": false,
        "id": "8a183217"
      },
      "execution_count": null,
      "outputs": []
    },
    {
      "id": "b62cf7de",
      "cell_type": "code",
      "source": [
        "###\n",
        "### AUTOGRADER TEST - DO NOT REMOVE\n",
        "###\n"
      ],
      "metadata": {
        "cellIdentifier": "b62cf7de",
        "nbgrader": {
          "grade": true,
          "locked": true,
          "solution": false,
          "grade_id": "test_20",
          "points": "2"
        },
        "editable": false,
        "deletable": false,
        "id": "b62cf7de"
      },
      "execution_count": null,
      "outputs": []
    },
    {
      "id": "53891fa1",
      "cell_type": "code",
      "source": [
        "###\n",
        "### AUTOGRADER TEST - DO NOT REMOVE\n",
        "###\n"
      ],
      "metadata": {
        "cellIdentifier": "53891fa1",
        "nbgrader": {
          "grade": true,
          "locked": true,
          "solution": false,
          "grade_id": "test_21",
          "points": "2"
        },
        "editable": false,
        "deletable": false,
        "id": "53891fa1"
      },
      "execution_count": null,
      "outputs": []
    },
    {
      "id": "46ff373c",
      "cell_type": "code",
      "source": [
        "###\n",
        "### AUTOGRADER TEST - DO NOT REMOVE\n",
        "###\n"
      ],
      "metadata": {
        "cellIdentifier": "46ff373c",
        "nbgrader": {
          "grade": true,
          "locked": true,
          "solution": false,
          "grade_id": "test_22",
          "points": "2"
        },
        "editable": false,
        "deletable": false,
        "id": "46ff373c"
      },
      "execution_count": null,
      "outputs": []
    },
    {
      "id": "bf7df869",
      "cell_type": "code",
      "source": [
        "###\n",
        "### AUTOGRADER TEST - DO NOT REMOVE\n",
        "###\n"
      ],
      "metadata": {
        "cellIdentifier": "bf7df869",
        "nbgrader": {
          "grade": true,
          "locked": true,
          "solution": false,
          "grade_id": "test_23",
          "points": "2"
        },
        "editable": false,
        "deletable": false,
        "id": "bf7df869"
      },
      "execution_count": null,
      "outputs": []
    },
    {
      "id": "247190c7",
      "cell_type": "code",
      "source": [
        "###\n",
        "### AUTOGRADER TEST - DO NOT REMOVE\n",
        "###\n"
      ],
      "metadata": {
        "cellIdentifier": "247190c7",
        "nbgrader": {
          "grade": true,
          "locked": true,
          "solution": false,
          "grade_id": "test_24",
          "points": "2"
        },
        "editable": false,
        "deletable": false,
        "id": "247190c7"
      },
      "execution_count": null,
      "outputs": []
    },
    {
      "id": "f349a1e4",
      "cell_type": "code",
      "source": [
        "###\n",
        "### AUTOGRADER TEST - DO NOT REMOVE\n",
        "###\n"
      ],
      "metadata": {
        "cellIdentifier": "f349a1e4",
        "nbgrader": {
          "grade": true,
          "locked": true,
          "solution": false,
          "grade_id": "test_25",
          "points": "2"
        },
        "editable": false,
        "deletable": false,
        "id": "f349a1e4"
      },
      "execution_count": null,
      "outputs": []
    },
    {
      "id": "1fefbe74",
      "cell_type": "code",
      "source": [
        "###\n",
        "### AUTOGRADER TEST - DO NOT REMOVE\n",
        "###\n"
      ],
      "metadata": {
        "cellIdentifier": "1fefbe74",
        "nbgrader": {
          "grade": true,
          "locked": true,
          "solution": false,
          "grade_id": "test_26",
          "points": "2"
        },
        "editable": false,
        "deletable": false,
        "id": "1fefbe74"
      },
      "execution_count": null,
      "outputs": []
    },
    {
      "id": "aec58c47",
      "cell_type": "code",
      "source": [
        "###\n",
        "### AUTOGRADER TEST - DO NOT REMOVE\n",
        "###\n"
      ],
      "metadata": {
        "cellIdentifier": "aec58c47",
        "nbgrader": {
          "grade": true,
          "locked": true,
          "solution": false,
          "grade_id": "test_27",
          "points": "2"
        },
        "editable": false,
        "deletable": false,
        "id": "aec58c47"
      },
      "execution_count": null,
      "outputs": []
    },
    {
      "id": "717c2668",
      "cell_type": "code",
      "source": [
        "###\n",
        "### AUTOGRADER TEST - DO NOT REMOVE\n",
        "###\n"
      ],
      "metadata": {
        "cellIdentifier": "717c2668",
        "nbgrader": {
          "grade": true,
          "locked": true,
          "solution": false,
          "grade_id": "test_28",
          "points": "2"
        },
        "editable": false,
        "deletable": false,
        "id": "717c2668"
      },
      "execution_count": null,
      "outputs": []
    },
    {
      "id": "aac278c2",
      "cell_type": "code",
      "source": [
        "###\n",
        "### AUTOGRADER TEST - DO NOT REMOVE\n",
        "###\n"
      ],
      "metadata": {
        "cellIdentifier": "aac278c2",
        "nbgrader": {
          "grade": true,
          "locked": true,
          "solution": false,
          "grade_id": "test_29",
          "points": "2"
        },
        "editable": false,
        "deletable": false,
        "id": "aac278c2"
      },
      "execution_count": null,
      "outputs": []
    },
    {
      "id": "1971f5ec",
      "cell_type": "code",
      "source": [
        "###\n",
        "### AUTOGRADER TEST - DO NOT REMOVE\n",
        "###\n"
      ],
      "metadata": {
        "cellIdentifier": "1971f5ec",
        "nbgrader": {
          "grade": true,
          "locked": true,
          "solution": false,
          "grade_id": "test_30",
          "points": "2"
        },
        "editable": false,
        "deletable": false,
        "id": "1971f5ec"
      },
      "execution_count": null,
      "outputs": []
    },
    {
      "id": "188933fd",
      "cell_type": "code",
      "source": [
        "###\n",
        "### AUTOGRADER TEST - DO NOT REMOVE\n",
        "###\n"
      ],
      "metadata": {
        "cellIdentifier": "188933fd",
        "nbgrader": {
          "grade": true,
          "locked": true,
          "solution": false,
          "grade_id": "test_31",
          "points": "2"
        },
        "editable": false,
        "deletable": false,
        "id": "188933fd"
      },
      "execution_count": null,
      "outputs": []
    },
    {
      "id": "1c7ffbc1",
      "cell_type": "code",
      "source": [
        "###\n",
        "### AUTOGRADER TEST - DO NOT REMOVE\n",
        "###\n"
      ],
      "metadata": {
        "cellIdentifier": "1c7ffbc1",
        "nbgrader": {
          "grade": true,
          "locked": true,
          "solution": false,
          "grade_id": "test_32",
          "points": "2"
        },
        "editable": false,
        "deletable": false,
        "id": "1c7ffbc1"
      },
      "execution_count": null,
      "outputs": []
    },
    {
      "id": "d87f16dc",
      "cell_type": "code",
      "source": [
        "###\n",
        "### AUTOGRADER TEST - DO NOT REMOVE\n",
        "###\n"
      ],
      "metadata": {
        "cellIdentifier": "d87f16dc",
        "nbgrader": {
          "grade": true,
          "locked": true,
          "solution": false,
          "grade_id": "test_33",
          "points": "2"
        },
        "editable": false,
        "deletable": false,
        "id": "d87f16dc"
      },
      "execution_count": null,
      "outputs": []
    },
    {
      "id": "aec89bc6",
      "cell_type": "code",
      "source": [
        "###\n",
        "### AUTOGRADER TEST - DO NOT REMOVE\n",
        "###\n"
      ],
      "metadata": {
        "cellIdentifier": "aec89bc6",
        "nbgrader": {
          "grade": true,
          "locked": true,
          "solution": false,
          "grade_id": "test_34",
          "points": "2"
        },
        "editable": false,
        "deletable": false,
        "id": "aec89bc6"
      },
      "execution_count": null,
      "outputs": []
    },
    {
      "id": "b57c58f0",
      "cell_type": "code",
      "source": [
        "###\n",
        "### AUTOGRADER TEST - DO NOT REMOVE\n",
        "###\n"
      ],
      "metadata": {
        "cellIdentifier": "b57c58f0",
        "nbgrader": {
          "grade": true,
          "locked": true,
          "solution": false,
          "grade_id": "test_35",
          "points": "2"
        },
        "editable": false,
        "deletable": false,
        "id": "b57c58f0"
      },
      "execution_count": null,
      "outputs": []
    },
    {
      "id": "f15b0086",
      "cell_type": "code",
      "source": [
        "###\n",
        "### AUTOGRADER TEST - DO NOT REMOVE\n",
        "###\n"
      ],
      "metadata": {
        "cellIdentifier": "f15b0086",
        "nbgrader": {
          "grade": true,
          "locked": true,
          "solution": false,
          "grade_id": "test_36",
          "points": "2"
        },
        "editable": false,
        "deletable": false,
        "id": "f15b0086"
      },
      "execution_count": null,
      "outputs": []
    },
    {
      "id": "dd9e60df",
      "cell_type": "code",
      "source": [
        "###\n",
        "### AUTOGRADER TEST - DO NOT REMOVE\n",
        "###\n"
      ],
      "metadata": {
        "cellIdentifier": "dd9e60df",
        "nbgrader": {
          "grade": true,
          "locked": true,
          "solution": false,
          "grade_id": "test_37",
          "points": "2"
        },
        "editable": false,
        "deletable": false,
        "id": "dd9e60df"
      },
      "execution_count": null,
      "outputs": []
    },
    {
      "id": "85e2d831",
      "cell_type": "code",
      "source": [
        "###\n",
        "### AUTOGRADER TEST - DO NOT REMOVE\n",
        "###\n"
      ],
      "metadata": {
        "cellIdentifier": "85e2d831",
        "nbgrader": {
          "grade": true,
          "locked": true,
          "solution": false,
          "grade_id": "test_38",
          "points": "2"
        },
        "editable": false,
        "deletable": false,
        "id": "85e2d831"
      },
      "execution_count": null,
      "outputs": []
    },
    {
      "id": "af5ec835",
      "cell_type": "code",
      "source": [
        "###\n",
        "### AUTOGRADER TEST - DO NOT REMOVE\n",
        "###\n"
      ],
      "metadata": {
        "cellIdentifier": "af5ec835",
        "nbgrader": {
          "grade": true,
          "locked": true,
          "solution": false,
          "grade_id": "test_39",
          "points": "2"
        },
        "editable": false,
        "deletable": false,
        "id": "af5ec835"
      },
      "execution_count": null,
      "outputs": []
    },
    {
      "id": "e6fb0387",
      "cell_type": "code",
      "source": [
        "###\n",
        "### AUTOGRADER TEST - DO NOT REMOVE\n",
        "###\n"
      ],
      "metadata": {
        "cellIdentifier": "e6fb0387",
        "nbgrader": {
          "grade": true,
          "locked": true,
          "solution": false,
          "grade_id": "test_40",
          "points": "2"
        },
        "editable": false,
        "deletable": false,
        "id": "e6fb0387"
      },
      "execution_count": null,
      "outputs": []
    },
    {
      "id": "aabb010e",
      "cell_type": "code",
      "source": [
        "###\n",
        "### AUTOGRADER TEST - DO NOT REMOVE\n",
        "###\n"
      ],
      "metadata": {
        "cellIdentifier": "aabb010e",
        "nbgrader": {
          "grade": true,
          "locked": true,
          "solution": false,
          "grade_id": "test_41",
          "points": "2"
        },
        "editable": false,
        "deletable": false,
        "id": "aabb010e"
      },
      "execution_count": null,
      "outputs": []
    },
    {
      "id": "56d5ddd3",
      "cell_type": "code",
      "source": [
        "###\n",
        "### AUTOGRADER TEST - DO NOT REMOVE\n",
        "###\n"
      ],
      "metadata": {
        "cellIdentifier": "56d5ddd3",
        "nbgrader": {
          "grade": true,
          "locked": true,
          "solution": false,
          "grade_id": "test_42",
          "points": "2"
        },
        "editable": false,
        "deletable": false,
        "id": "56d5ddd3"
      },
      "execution_count": null,
      "outputs": []
    },
    {
      "id": "9d705789",
      "cell_type": "code",
      "source": [
        "###\n",
        "### AUTOGRADER TEST - DO NOT REMOVE\n",
        "###\n"
      ],
      "metadata": {
        "cellIdentifier": "9d705789",
        "nbgrader": {
          "grade": true,
          "locked": true,
          "solution": false,
          "grade_id": "test_43",
          "points": "2"
        },
        "editable": false,
        "deletable": false,
        "id": "9d705789"
      },
      "execution_count": null,
      "outputs": []
    },
    {
      "id": "bd75958f",
      "cell_type": "code",
      "source": [
        "###\n",
        "### AUTOGRADER TEST - DO NOT REMOVE\n",
        "###\n"
      ],
      "metadata": {
        "cellIdentifier": "bd75958f",
        "nbgrader": {
          "grade": true,
          "locked": true,
          "solution": false,
          "grade_id": "test_44",
          "points": "2"
        },
        "editable": false,
        "deletable": false,
        "id": "bd75958f"
      },
      "execution_count": null,
      "outputs": []
    },
    {
      "id": 76292321,
      "cell_type": "code",
      "source": [
        "###\n",
        "### AUTOGRADER TEST - DO NOT REMOVE\n",
        "###\n"
      ],
      "metadata": {
        "cellIdentifier": 76292321,
        "nbgrader": {
          "grade": true,
          "locked": true,
          "solution": false,
          "grade_id": "test_45",
          "points": "2"
        },
        "editable": false,
        "deletable": false,
        "id": 76292321
      },
      "execution_count": null,
      "outputs": []
    },
    {
      "id": "2602256f",
      "cell_type": "code",
      "source": [
        "###\n",
        "### AUTOGRADER TEST - DO NOT REMOVE\n",
        "###\n"
      ],
      "metadata": {
        "cellIdentifier": "2602256f",
        "nbgrader": {
          "grade": true,
          "locked": true,
          "solution": false,
          "grade_id": "test_46",
          "points": "2"
        },
        "editable": false,
        "deletable": false,
        "id": "2602256f"
      },
      "execution_count": null,
      "outputs": []
    },
    {
      "id": "7db5347a",
      "cell_type": "code",
      "source": [
        "###\n",
        "### AUTOGRADER TEST - DO NOT REMOVE\n",
        "###\n"
      ],
      "metadata": {
        "cellIdentifier": "7db5347a",
        "nbgrader": {
          "grade": true,
          "locked": true,
          "solution": false,
          "grade_id": "test_47",
          "points": "2"
        },
        "editable": false,
        "deletable": false,
        "id": "7db5347a"
      },
      "execution_count": null,
      "outputs": []
    },
    {
      "id": "42528d69",
      "cell_type": "code",
      "source": [
        "###\n",
        "### AUTOGRADER TEST - DO NOT REMOVE\n",
        "###\n"
      ],
      "metadata": {
        "cellIdentifier": "42528d69",
        "nbgrader": {
          "grade": true,
          "locked": true,
          "solution": false,
          "grade_id": "test_48",
          "points": "2"
        },
        "editable": false,
        "deletable": false,
        "id": "42528d69"
      },
      "execution_count": null,
      "outputs": []
    },
    {
      "id": "8e0a0bfe",
      "cell_type": "code",
      "source": [
        "###\n",
        "### AUTOGRADER TEST - DO NOT REMOVE\n",
        "###\n"
      ],
      "metadata": {
        "cellIdentifier": "8e0a0bfe",
        "nbgrader": {
          "grade": true,
          "locked": true,
          "solution": false,
          "grade_id": "test_49",
          "points": "2"
        },
        "editable": false,
        "deletable": false,
        "id": "8e0a0bfe"
      },
      "execution_count": null,
      "outputs": []
    }
  ],
  "metadata": {
    "kernelspec": {
      "display_name": "pyg",
      "language": "python",
      "name": "python3"
    },
    "language_info": {
      "codemirror_mode": {
        "name": "ipython",
        "version": 3
      },
      "file_extension": ".py",
      "mimetype": "text/x-python",
      "name": "python",
      "nbconvert_exporter": "python",
      "pygments_lexer": "ipython3",
      "version": "3.10.8"
    },
    "colab": {
      "provenance": []
    }
  },
  "nbformat": 4,
  "nbformat_minor": 5
}